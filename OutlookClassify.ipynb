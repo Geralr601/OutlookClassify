{
 "cells": [
  {
   "cell_type": "code",
   "execution_count": 4,
   "metadata": {},
   "outputs": [],
   "source": [
    "import pandas as pd\n",
    "import re\n",
    "import numpy as np\n",
    "from sklearn.feature_extraction.text import CountVectorizer, TfidfTransformer\n",
    "from sklearn.linear_model import LogisticRegression\n",
    "\n",
    "# Para separar el el dataframe en test de validación y test de entrenamiento\n",
    "from sklearn.model_selection import train_test_split\n",
    "# Para hacer varias evaluaciones del modelo con un conjunto de validación \n",
    "from sklearn.model_selection import cross_val_score\n",
    "# Métricas\n",
    "from sklearn.model_selection import cross_val_predict\n",
    "from sklearn.metrics import confusion_matrix\n",
    "from sklearn.metrics import precision_score, recall_score\n",
    "# Modelos\n",
    "from sklearn.linear_model import SGDClassifier\n",
    "from sklearn.ensemble import RandomForestRegressor\n",
    "from sklearn.tree import DecisionTreeRegressor\n",
    "from sklearn.svm import SVC\n",
    "\n",
    "from nltk import word_tokenize"
   ]
  },
  {
   "cell_type": "code",
   "execution_count": 22,
   "metadata": {},
   "outputs": [],
   "source": []
  },
  {
   "cell_type": "code",
   "execution_count": 5,
   "metadata": {},
   "outputs": [],
   "source": [
    "# Cargar los datos\n",
    "df_train = pd.read_excel(r'C:\\Users\\efreay\\Documents\\Academia\\correos.xlsx')\n",
    "df_val = pd.read_excel(r'C:\\Users\\efreay\\Documents\\Academia\\nuevos_correos.xlsx')\n",
    "\n",
    "df_val[\"Subject\"] = df_val[\"Subject\"].astype(str)\n",
    "df_val[\"Preview\"] = df_val[\"Preview\"].astype(str)"
   ]
  },
  {
   "cell_type": "code",
   "execution_count": 6,
   "metadata": {},
   "outputs": [
    {
     "name": "stdout",
     "output_type": "stream",
     "text": [
      "10\n"
     ]
    }
   ],
   "source": [
    "# Convertir la columna 'DateTimeSent' a tipo datetime\n",
    "df_val['DateTimeSent'] = pd.to_datetime(df_val['DateTimeSent'])\n",
    "\n",
    "# Obtener el mes actual\n",
    "mes_actual = pd.to_datetime('today').month\n",
    "print(mes_actual)"
   ]
  },
  {
   "cell_type": "code",
   "execution_count": 7,
   "metadata": {},
   "outputs": [],
   "source": [
    "#  Eliminar las filas que no corresponden al mes actual\n",
    "df_val = df_val[~(df_val['DateTimeSent'].dt.month != mes_actual)]"
   ]
  },
  {
   "cell_type": "code",
   "execution_count": 8,
   "metadata": {},
   "outputs": [],
   "source": [
    "# Crear una tupla con las palabras o frases a eliminar\n",
    "palabras_a_eliminar = (\"Solicitud atendida\", \"Notificación Finalizaciòn\", \"RPA\", \n",
    "                       \"El buzón está lleno.\")\n",
    "\n",
    "# Crear una función para determinar si una fila debe eliminarse\n",
    "def debe_eliminar(fila):\n",
    "    for palabra in palabras_a_eliminar:\n",
    "        if palabra in fila[\"Subject\"]:\n",
    "            return True\n",
    "    return False\n",
    "\n",
    "# Eliminar las filas que cumplan con el criterio\n",
    "df_val = df_val[~df_val.apply(debe_eliminar, axis=1)]"
   ]
  },
  {
   "cell_type": "code",
   "execution_count": 9,
   "metadata": {},
   "outputs": [],
   "source": [
    "# Define una función para transformar la columna \"Clasificación\"\n",
    "def transform_clasificacion(clasificacion):\n",
    "    if clasificacion == \"Certificación Bancaria Basica\":\n",
    "        return clasificacion\n",
    "    else:\n",
    "        return \"otros\"\n",
    "    \n",
    "# Aplica la función a la columna \"Clasificación\" y crea una nueva columna \"Clasificación Nueva\"\n",
    "df_train['Clasificación'] = df_train['Clasificación'].apply(transform_clasificacion)"
   ]
  },
  {
   "cell_type": "code",
   "execution_count": 10,
   "metadata": {},
   "outputs": [],
   "source": [
    "# Normalizar el texto\n",
    "def normalize_text(text):\n",
    "    text = text.lower()\n",
    "    text = text.replace(\"á\", \"a\")\n",
    "    text = text.replace(\"é\", \"e\")\n",
    "    text = text.replace(\"í\", \"i\")\n",
    "    text = text.replace(\"ó\", \"o\")\n",
    "    text = text.replace(\"ú\", \"u\")\n",
    "\n",
    "    return text"
   ]
  },
  {
   "cell_type": "code",
   "execution_count": 11,
   "metadata": {},
   "outputs": [],
   "source": [
    "# Aplicar la normalización al dataset de entrenamiento\n",
    "df_train[\"Subject\"] = df_train[\"Subject\"].apply(normalize_text)\n",
    "df_train[\"Preview\"] = df_train[\"Preview\"].apply(normalize_text)\n",
    "\n",
    "# Aplicar la normalización al dataset de validación\n",
    "df_val[\"Subject\"] = df_val[\"Subject\"].apply(normalize_text)\n",
    "df_val[\"Preview\"] = df_val[\"Preview\"].apply(normalize_text)"
   ]
  },
  {
   "cell_type": "code",
   "execution_count": 12,
   "metadata": {},
   "outputs": [],
   "source": [
    "df_train[\"text\"] = df_train[\"Subject\"] + df_train[\"Preview\"]\n",
    "\n",
    "df_val[\"text\"] = df_val[\"Subject\"] + df_val[\"Preview\"]"
   ]
  },
  {
   "cell_type": "code",
   "execution_count": 13,
   "metadata": {},
   "outputs": [],
   "source": [
    "df_train[\"Clasificación\"] = df_train[\"Clasificación\"].apply(lambda x: 0 if x == \"otros\" else 1)"
   ]
  },
  {
   "cell_type": "code",
   "execution_count": 14,
   "metadata": {},
   "outputs": [
    {
     "data": {
      "text/plain": [
       "0    0\n",
       "1    1\n",
       "Name: Clasificación, dtype: int64"
      ]
     },
     "execution_count": 14,
     "metadata": {},
     "output_type": "execute_result"
    }
   ],
   "source": [
    "df_train[\"Clasificación\"].drop_duplicates()"
   ]
  },
  {
   "cell_type": "code",
   "execution_count": 15,
   "metadata": {},
   "outputs": [],
   "source": [
    "cv = CountVectorizer()\n",
    "X_train = cv.fit_transform(df_train[\"text\"])\n",
    "\n",
    "X_val = cv.transform(df_val[\"text\"])"
   ]
  },
  {
   "cell_type": "code",
   "execution_count": 16,
   "metadata": {},
   "outputs": [],
   "source": [
    "# Aplicar un TfidfTransformer\n",
    "tfidf = TfidfTransformer()\n",
    "X_train = tfidf.fit_transform(X_train)\n",
    "# X_test = tfidf.fit_transform(X_test)\n",
    "\n",
    "X_val = tfidf.transform(X_val)"
   ]
  },
  {
   "cell_type": "code",
   "execution_count": 17,
   "metadata": {},
   "outputs": [
    {
     "data": {
      "text/plain": [
       "array([[ 436,   17],\n",
       "       [  15, 1175]], dtype=int64)"
      ]
     },
     "execution_count": 17,
     "metadata": {},
     "output_type": "execute_result"
    }
   ],
   "source": [
    "svm_classifier = SVC(kernel='linear')\n",
    "df_clasificado_svm = cross_val_predict(svm_classifier, X_train, df_train[\"Clasificación\"], cv=3)\n",
    "confusion_matrix(df_train[\"Clasificación\"], df_clasificado_svm)"
   ]
  },
  {
   "cell_type": "code",
   "execution_count": 18,
   "metadata": {},
   "outputs": [
    {
     "data": {
      "text/plain": [
       "0.985738255033557"
      ]
     },
     "execution_count": 18,
     "metadata": {},
     "output_type": "execute_result"
    }
   ],
   "source": [
    "precision_score(df_train[\"Clasificación\"].to_numpy(), df_clasificado_svm, pos_label=1)"
   ]
  },
  {
   "cell_type": "code",
   "execution_count": 19,
   "metadata": {},
   "outputs": [],
   "source": [
    "svm_classifier.fit(X_train, df_train[\"Clasificación\"])\n",
    "y_pred = svm_classifier.predict(X_val)\n",
    "# Agregar la columna clasificación al archivo de validación\n",
    "df_val[\"clasificacion\"] = y_pred\n",
    "\n",
    "\n",
    "\n",
    "#df_val.to_excel(r'C:\\Users\\efreay\\Documents\\Academia\\nuevos_correos.xlsx')"
   ]
  },
  {
   "cell_type": "code",
   "execution_count": 21,
   "metadata": {},
   "outputs": [],
   "source": [
    "# Definimos las expresiones regulares\n",
    "numeros_regex = r'\\b\\d{10,11}\\b'\n",
    "tipologia_regex = r'\\b(ahorros|aho|ahorro|corriente|cte|corrientes)\\b'\n",
    "\n",
    "# Creamos las nuevas columnas\n",
    "df_val['numero'] = df_val['Subject'].str.findall(numeros_regex).apply(' '.join) + df_val['Preview'].str.findall(numeros_regex).apply(' '.join)\n",
    "df_val['tipo'] = df_val['Subject'].str.findall(tipologia_regex).apply(' '.join) + df_val['Preview'].str.findall(tipologia_regex).apply(' '.join)\n",
    "\n",
    "# Limpiamos los números de cuenta y NIT\n",
    "df_val['numero'] = df_val['numero'].str.replace('[-.\\s]', '')\n",
    "\n",
    "# Normalizamos los tipos de cuenta\n",
    "df_val['tipo'] = df_val['tipo'].replace({'aho': 'Ahorros', 'ahorro': 'Ahorros', 'cte': 'Corriente', 'corrientes': 'Corriente'})"
   ]
  },
  {
   "cell_type": "code",
   "execution_count": 23,
   "metadata": {},
   "outputs": [],
   "source": [
    "def get_nit(df_val):\n",
    "  \"\"\"\n",
    "  Función para extraer los NIT de las columnas \"Subject\" y \"Preview\".\n",
    "\n",
    "  Parámetros:\n",
    "    df_certificados: Data frame con las columnas \"Subject\" y \"Preview\".\n",
    "\n",
    "  Devuelve:\n",
    "    Data frame con una columna adicional llamada \"nit\".\n",
    "  \"\"\"\n",
    "\n",
    "  # Expresión regular para buscar los NIT en las columnas \"Subject\" y \"Preview\".\n",
    "  regex = re.compile(r\"(Nit\\.?|NIT\\.?|nit\\.?)\\s+(\\d+)\")\n",
    "\n",
    "  # Extraer los NIT de las columnas \"subject\" y \"preview\".\n",
    "  df_val[\"nit\"] = df_val.apply(lambda row: regex.findall(str(row[\"Subject\"])) + regex.findall(str(row[\"Preview\"])), axis=1)\n",
    "\n",
    "  # Convertir la lista de tuplas a una lista de cadenas.\n",
    "  df_val[\"nit\"] = df_val[\"nit\"].apply(lambda x: [\"\".join(tup) for tup in x])\n",
    "\n",
    "  # Convertir la lista de cadenas a una cadena única.\n",
    "  df_val[\"nit\"] = df_val[\"nit\"].apply(lambda x: ', '.join(x) if x else np.nan)\n",
    "\n",
    "  # Devolver el data frame con la columna \"nit\".\n",
    "  return df_val\n",
    "\n",
    "df_val = get_nit(df_val.copy())"
   ]
  },
  {
   "cell_type": "code",
   "execution_count": 25,
   "metadata": {},
   "outputs": [
    {
     "data": {
      "text/html": [
       "<div>\n",
       "<style scoped>\n",
       "    .dataframe tbody tr th:only-of-type {\n",
       "        vertical-align: middle;\n",
       "    }\n",
       "\n",
       "    .dataframe tbody tr th {\n",
       "        vertical-align: top;\n",
       "    }\n",
       "\n",
       "    .dataframe thead th {\n",
       "        text-align: right;\n",
       "    }\n",
       "</style>\n",
       "<table border=\"1\" class=\"dataframe\">\n",
       "  <thead>\n",
       "    <tr style=\"text-align: right;\">\n",
       "      <th></th>\n",
       "      <th>Folder Path</th>\n",
       "      <th>Subject</th>\n",
       "      <th>DateTimeSent</th>\n",
       "      <th>DateTimeReceived</th>\n",
       "      <th>Preview</th>\n",
       "      <th>text</th>\n",
       "      <th>clasificacion</th>\n",
       "      <th>numero</th>\n",
       "      <th>tipo</th>\n",
       "      <th>nit</th>\n",
       "    </tr>\n",
       "  </thead>\n",
       "  <tbody>\n",
       "    <tr>\n",
       "      <th>3188</th>\n",
       "      <td>\\Gestión Marce\\</td>\n",
       "      <td>solicitud certificaciones bancolombia octubre</td>\n",
       "      <td>2023-10-06 15:43:26</td>\n",
       "      <td>2023-10-06 15:43:35</td>\n",
       "      <td>cuidado: este correo es externo al grupo banco...</td>\n",
       "      <td>solicitud certificaciones bancolombia octubrec...</td>\n",
       "      <td>1</td>\n",
       "      <td></td>\n",
       "      <td></td>\n",
       "      <td>NaN</td>\n",
       "    </tr>\n",
       "    <tr>\n",
       "      <th>4704</th>\n",
       "      <td>\\Gestión Marce\\</td>\n",
       "      <td>re: solicitud referencia bancaria cuenta de ah...</td>\n",
       "      <td>2023-10-03 11:50:55</td>\n",
       "      <td>2023-10-03 11:50:58</td>\n",
       "      <td>equipo_x000d_\\nbuenas tardes . espero se encue...</td>\n",
       "      <td>re: solicitud referencia bancaria cuenta de ah...</td>\n",
       "      <td>1</td>\n",
       "      <td></td>\n",
       "      <td>ahorros</td>\n",
       "      <td>NaN</td>\n",
       "    </tr>\n",
       "    <tr>\n",
       "      <th>1449</th>\n",
       "      <td>\\Gestión Marce\\</td>\n",
       "      <td>re: solicitud certificado bancario 99102 - pa ...</td>\n",
       "      <td>2023-10-12 17:15:59</td>\n",
       "      <td>2023-10-12 17:16:02</td>\n",
       "      <td>hola buenas tardes_x000d_\\nagradecemos su vali...</td>\n",
       "      <td>re: solicitud certificado bancario 99102 - pa ...</td>\n",
       "      <td>1</td>\n",
       "      <td></td>\n",
       "      <td></td>\n",
       "      <td>NaN</td>\n",
       "    </tr>\n",
       "    <tr>\n",
       "      <th>223</th>\n",
       "      <td>\\Gestión Marce\\</td>\n",
       "      <td>re: confirmaciones auditoria pwc</td>\n",
       "      <td>2023-10-20 09:14:58</td>\n",
       "      <td>2023-10-20 09:15:02</td>\n",
       "      <td>@serviempresarial</td>\n",
       "      <td>re: confirmaciones auditoria pwc@serviempresarial</td>\n",
       "      <td>0</td>\n",
       "      <td></td>\n",
       "      <td></td>\n",
       "      <td>NaN</td>\n",
       "    </tr>\n",
       "    <tr>\n",
       "      <th>1103</th>\n",
       "      <td>\\Gestión Marce\\</td>\n",
       "      <td>certificacion bancarias - sempertex de colombia</td>\n",
       "      <td>2023-10-17 10:42:56</td>\n",
       "      <td>2023-10-17 10:43:07</td>\n",
       "      <td>cuidado: este correo es externo al grupo banco...</td>\n",
       "      <td>certificacion bancarias - sempertex de colombi...</td>\n",
       "      <td>1</td>\n",
       "      <td></td>\n",
       "      <td>Ahorros</td>\n",
       "      <td>NaN</td>\n",
       "    </tr>\n",
       "  </tbody>\n",
       "</table>\n",
       "</div>"
      ],
      "text/plain": [
       "          Folder Path                                            Subject  \\\n",
       "3188  \\Gestión Marce\\      solicitud certificaciones bancolombia octubre   \n",
       "4704  \\Gestión Marce\\  re: solicitud referencia bancaria cuenta de ah...   \n",
       "1449  \\Gestión Marce\\  re: solicitud certificado bancario 99102 - pa ...   \n",
       "223   \\Gestión Marce\\                   re: confirmaciones auditoria pwc   \n",
       "1103  \\Gestión Marce\\    certificacion bancarias - sempertex de colombia   \n",
       "\n",
       "            DateTimeSent    DateTimeReceived  \\\n",
       "3188 2023-10-06 15:43:26 2023-10-06 15:43:35   \n",
       "4704 2023-10-03 11:50:55 2023-10-03 11:50:58   \n",
       "1449 2023-10-12 17:15:59 2023-10-12 17:16:02   \n",
       "223  2023-10-20 09:14:58 2023-10-20 09:15:02   \n",
       "1103 2023-10-17 10:42:56 2023-10-17 10:43:07   \n",
       "\n",
       "                                                Preview  \\\n",
       "3188  cuidado: este correo es externo al grupo banco...   \n",
       "4704  equipo_x000d_\\nbuenas tardes . espero se encue...   \n",
       "1449  hola buenas tardes_x000d_\\nagradecemos su vali...   \n",
       "223                                   @serviempresarial   \n",
       "1103  cuidado: este correo es externo al grupo banco...   \n",
       "\n",
       "                                                   text  clasificacion numero  \\\n",
       "3188  solicitud certificaciones bancolombia octubrec...              1          \n",
       "4704  re: solicitud referencia bancaria cuenta de ah...              1          \n",
       "1449  re: solicitud certificado bancario 99102 - pa ...              1          \n",
       "223   re: confirmaciones auditoria pwc@serviempresarial              0          \n",
       "1103  certificacion bancarias - sempertex de colombi...              1          \n",
       "\n",
       "         tipo  nit  \n",
       "3188           NaN  \n",
       "4704  ahorros  NaN  \n",
       "1449           NaN  \n",
       "223            NaN  \n",
       "1103  Ahorros  NaN  "
      ]
     },
     "execution_count": 25,
     "metadata": {},
     "output_type": "execute_result"
    }
   ],
   "source": [
    "df_val.sample(5)"
   ]
  },
  {
   "cell_type": "code",
   "execution_count": 28,
   "metadata": {},
   "outputs": [],
   "source": [
    "df_val.to_excel(r'C:\\Users\\efreay\\Documents\\Academia\\newdf.xlsx', index=False)   "
   ]
  }
 ],
 "metadata": {
  "kernelspec": {
   "display_name": ".venv",
   "language": "python",
   "name": "python3"
  },
  "language_info": {
   "codemirror_mode": {
    "name": "ipython",
    "version": 3
   },
   "file_extension": ".py",
   "mimetype": "text/x-python",
   "name": "python",
   "nbconvert_exporter": "python",
   "pygments_lexer": "ipython3",
   "version": "3.11.4"
  }
 },
 "nbformat": 4,
 "nbformat_minor": 2
}
