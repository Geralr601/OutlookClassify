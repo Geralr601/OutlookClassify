{
 "cells": [
  {
   "cell_type": "code",
   "execution_count": 1,
   "metadata": {},
   "outputs": [],
   "source": [
    "import pandas as pd\n",
    "from sklearn.feature_extraction.text import CountVectorizer, TfidfTransformer\n",
    "from sklearn.linear_model import LogisticRegression\n",
    "\n",
    "# Para separar el el dataframe en test de validación y test de entrenamiento\n",
    "from sklearn.model_selection import train_test_split\n",
    "# Para hacer varias evaluaciones del modelo con un conjunto de validación \n",
    "from sklearn.model_selection import cross_val_score\n",
    "# Métricas\n",
    "from sklearn.model_selection import cross_val_predict\n",
    "from sklearn.metrics import confusion_matrix\n",
    "from sklearn.metrics import precision_score, recall_score\n",
    "# Modelos\n",
    "from sklearn.linear_model import SGDClassifier\n",
    "from sklearn.ensemble import RandomForestRegressor\n",
    "from sklearn.tree import DecisionTreeRegressor\n",
    "from sklearn.svm import SVC\n",
    "\n",
    "from nltk import word_tokenize"
   ]
  },
  {
   "cell_type": "code",
   "execution_count": 3,
   "metadata": {},
   "outputs": [],
   "source": [
    "# Cargar los datos\n",
    "df_train = pd.read_excel('C:/Users/gerrodri/Documents/Academia/insumos/correos.xlsx')\n",
    "df_val = pd.read_excel('C:/Users/gerrodri/Documents/Academia/insumos/nuevos_correos.xlsx')\n",
    "\n",
    "df_val[\"Subject\"] = df_val[\"Subject\"].astype(str)\n",
    "df_val[\"Preview\"] = df_val[\"Preview\"].astype(str)"
   ]
  },
  {
   "cell_type": "code",
   "execution_count": 4,
   "metadata": {},
   "outputs": [
    {
     "name": "stdout",
     "output_type": "stream",
     "text": [
      "10\n"
     ]
    }
   ],
   "source": [
    "# Convertir la columna 'DateTimeSent' a tipo datetime\n",
    "df_val['DateTimeSent'] = pd.to_datetime(df_val['DateTimeSent'])\n",
    "\n",
    "# Obtener el mes actual\n",
    "mes_actual = pd.to_datetime('today').month\n",
    "print(mes_actual)"
   ]
  },
  {
   "cell_type": "code",
   "execution_count": 5,
   "metadata": {},
   "outputs": [],
   "source": [
    "#  Eliminar las filas que no corresponden al mes actual\n",
    "df_val = df_val[~(df_val['DateTimeSent'].dt.month != mes_actual)]"
   ]
  },
  {
   "cell_type": "code",
   "execution_count": 6,
   "metadata": {},
   "outputs": [],
   "source": [
    "# Crear una tupla con las palabras o frases a eliminar\n",
    "palabras_a_eliminar = (\"Solicitud atendida\", \"Notificación Finalizaciòn\", \"RPA\", \n",
    "                       \"El buzón está lleno.\")\n",
    "\n",
    "# Crear una función para determinar si una fila debe eliminarse\n",
    "def debe_eliminar(fila):\n",
    "    for palabra in palabras_a_eliminar:\n",
    "        if palabra in fila[\"Subject\"]:\n",
    "            return True\n",
    "    return False\n",
    "\n",
    "# Eliminar las filas que cumplan con el criterio\n",
    "df_val = df_val[~df_val.apply(debe_eliminar, axis=1)]"
   ]
  },
  {
   "cell_type": "code",
   "execution_count": 7,
   "metadata": {},
   "outputs": [],
   "source": [
    "# Define una función para transformar la columna \"Clasificación\"\n",
    "def transform_clasificacion(clasificacion):\n",
    "    if clasificacion == \"Certificación Bancaria Basica\":\n",
    "        return clasificacion\n",
    "    else:\n",
    "        return \"otros\"\n",
    "    \n",
    "# Aplica la función a la columna \"Clasificación\" y crea una nueva columna \"Clasificación Nueva\"\n",
    "df_train['Clasificación'] = df_train['Clasificación'].apply(transform_clasificacion)"
   ]
  },
  {
   "cell_type": "code",
   "execution_count": 8,
   "metadata": {},
   "outputs": [],
   "source": [
    "# Normalizar el texto\n",
    "def normalize_text(text):\n",
    "    text = text.lower()\n",
    "    text = text.replace(\"á\", \"a\")\n",
    "    text = text.replace(\"é\", \"e\")\n",
    "    text = text.replace(\"í\", \"i\")\n",
    "    text = text.replace(\"ó\", \"o\")\n",
    "    text = text.replace(\"ú\", \"u\")\n",
    "\n",
    "    return text"
   ]
  },
  {
   "cell_type": "code",
   "execution_count": 9,
   "metadata": {},
   "outputs": [],
   "source": [
    "# Aplicar la normalización al dataset de entrenamiento\n",
    "df_train[\"Subject\"] = df_train[\"Subject\"].apply(normalize_text)\n",
    "df_train[\"Preview\"] = df_train[\"Preview\"].apply(normalize_text)\n",
    "\n",
    "# Aplicar la normalización al dataset de validación\n",
    "df_val[\"Subject\"] = df_val[\"Subject\"].apply(normalize_text)\n",
    "df_val[\"Preview\"] = df_val[\"Preview\"].apply(normalize_text)"
   ]
  },
  {
   "cell_type": "code",
   "execution_count": 10,
   "metadata": {},
   "outputs": [],
   "source": [
    "df_train[\"text\"] = df_train[\"Subject\"] + df_train[\"Preview\"]\n",
    "\n",
    "df_val[\"text\"] = df_val[\"Subject\"] + df_val[\"Preview\"]"
   ]
  },
  {
   "cell_type": "code",
   "execution_count": 11,
   "metadata": {},
   "outputs": [],
   "source": [
    "df_train[\"Clasificación\"] = df_train[\"Clasificación\"].apply(lambda x: 0 if x == \"otros\" else 1)"
   ]
  },
  {
   "cell_type": "code",
   "execution_count": 12,
   "metadata": {},
   "outputs": [
    {
     "data": {
      "text/plain": [
       "0    0\n",
       "1    1\n",
       "Name: Clasificación, dtype: int64"
      ]
     },
     "execution_count": 12,
     "metadata": {},
     "output_type": "execute_result"
    }
   ],
   "source": [
    "df_train[\"Clasificación\"].drop_duplicates()"
   ]
  },
  {
   "cell_type": "code",
   "execution_count": 13,
   "metadata": {},
   "outputs": [],
   "source": [
    "cv = CountVectorizer()\n",
    "X_train = cv.fit_transform(df_train[\"text\"])\n",
    "\n",
    "X_val = cv.transform(df_val[\"text\"])"
   ]
  },
  {
   "cell_type": "code",
   "execution_count": 14,
   "metadata": {},
   "outputs": [],
   "source": [
    "# Aplicar un TfidfTransformer\n",
    "tfidf = TfidfTransformer()\n",
    "X_train = tfidf.fit_transform(X_train)\n",
    "# X_test = tfidf.fit_transform(X_test)\n",
    "\n",
    "X_val = tfidf.transform(X_val)"
   ]
  },
  {
   "cell_type": "code",
   "execution_count": 15,
   "metadata": {},
   "outputs": [
    {
     "data": {
      "text/plain": [
       "array([[ 431,   22],\n",
       "       [  15, 1175]], dtype=int64)"
      ]
     },
     "execution_count": 15,
     "metadata": {},
     "output_type": "execute_result"
    }
   ],
   "source": [
    "sgd_clf = SGDClassifier(random_state=42)\n",
    "df_clasificado_sgd = cross_val_predict(sgd_clf, X_train, df_train[\"Clasificación\"], cv=3)\n",
    "confusion_matrix(df_train[\"Clasificación\"], df_clasificado_sgd)"
   ]
  },
  {
   "cell_type": "code",
   "execution_count": 16,
   "metadata": {},
   "outputs": [
    {
     "data": {
      "text/plain": [
       "0.9816207184628237"
      ]
     },
     "execution_count": 16,
     "metadata": {},
     "output_type": "execute_result"
    }
   ],
   "source": [
    "precision_score(df_train[\"Clasificación\"].to_numpy(), df_clasificado_sgd, pos_label=1)"
   ]
  },
  {
   "cell_type": "code",
   "execution_count": 17,
   "metadata": {},
   "outputs": [
    {
     "data": {
      "text/plain": [
       "0.9514348785871964"
      ]
     },
     "execution_count": 17,
     "metadata": {},
     "output_type": "execute_result"
    }
   ],
   "source": [
    "recall_score(df_train[\"Clasificación\"], df_clasificado_sgd, pos_label=0)"
   ]
  },
  {
   "cell_type": "code",
   "execution_count": 18,
   "metadata": {},
   "outputs": [
    {
     "data": {
      "text/plain": [
       "array([[ 431,   22],\n",
       "       [  15, 1175]], dtype=int64)"
      ]
     },
     "execution_count": 18,
     "metadata": {},
     "output_type": "execute_result"
    }
   ],
   "source": [
    "forest_reg = SGDClassifier(random_state=42)\n",
    "df_clasificado_forest = cross_val_predict(forest_reg, X_train, df_train[\"Clasificación\"], cv=3)\n",
    "confusion_matrix(df_train[\"Clasificación\"], df_clasificado_forest)\n"
   ]
  },
  {
   "cell_type": "code",
   "execution_count": 19,
   "metadata": {},
   "outputs": [
    {
     "data": {
      "text/plain": [
       "0.9816207184628237"
      ]
     },
     "execution_count": 19,
     "metadata": {},
     "output_type": "execute_result"
    }
   ],
   "source": [
    "precision_score(df_train[\"Clasificación\"].to_numpy(), df_clasificado_forest, pos_label=1)"
   ]
  },
  {
   "cell_type": "code",
   "execution_count": 20,
   "metadata": {},
   "outputs": [
    {
     "data": {
      "text/plain": [
       "0.9514348785871964"
      ]
     },
     "execution_count": 20,
     "metadata": {},
     "output_type": "execute_result"
    }
   ],
   "source": [
    "recall_score(df_train[\"Clasificación\"], df_clasificado_forest, pos_label=0)"
   ]
  },
  {
   "cell_type": "code",
   "execution_count": 21,
   "metadata": {},
   "outputs": [
    {
     "data": {
      "text/plain": [
       "array([[ 430,   23],\n",
       "       [  15, 1175]], dtype=int64)"
      ]
     },
     "execution_count": 21,
     "metadata": {},
     "output_type": "execute_result"
    }
   ],
   "source": [
    "tree_reg = DecisionTreeRegressor()\n",
    "df_clasificado_tree = cross_val_predict(tree_reg, X_train, df_train[\"Clasificación\"], cv=3)\n",
    "confusion_matrix(df_train[\"Clasificación\"], df_clasificado_tree)"
   ]
  },
  {
   "cell_type": "code",
   "execution_count": 22,
   "metadata": {},
   "outputs": [
    {
     "data": {
      "text/plain": [
       "0.9808013355592654"
      ]
     },
     "execution_count": 22,
     "metadata": {},
     "output_type": "execute_result"
    }
   ],
   "source": [
    "precision_score(df_train[\"Clasificación\"].to_numpy(), df_clasificado_tree, pos_label=1)"
   ]
  },
  {
   "cell_type": "code",
   "execution_count": 23,
   "metadata": {},
   "outputs": [
    {
     "data": {
      "text/plain": [
       "0.9492273730684326"
      ]
     },
     "execution_count": 23,
     "metadata": {},
     "output_type": "execute_result"
    }
   ],
   "source": [
    "recall_score(df_train[\"Clasificación\"], df_clasificado_tree, pos_label=0)"
   ]
  },
  {
   "cell_type": "code",
   "execution_count": 24,
   "metadata": {},
   "outputs": [
    {
     "data": {
      "text/plain": [
       "array([[ 436,   17],\n",
       "       [  15, 1175]], dtype=int64)"
      ]
     },
     "execution_count": 24,
     "metadata": {},
     "output_type": "execute_result"
    }
   ],
   "source": [
    "svm_classifier = SVC(kernel='linear')\n",
    "df_clasificado_svm = cross_val_predict(svm_classifier, X_train, df_train[\"Clasificación\"], cv=3)\n",
    "confusion_matrix(df_train[\"Clasificación\"], df_clasificado_svm)"
   ]
  },
  {
   "cell_type": "code",
   "execution_count": 25,
   "metadata": {},
   "outputs": [
    {
     "data": {
      "text/plain": [
       "0.985738255033557"
      ]
     },
     "execution_count": 25,
     "metadata": {},
     "output_type": "execute_result"
    }
   ],
   "source": [
    "precision_score(df_train[\"Clasificación\"].to_numpy(), df_clasificado_svm, pos_label=1)"
   ]
  },
  {
   "cell_type": "code",
   "execution_count": 26,
   "metadata": {},
   "outputs": [
    {
     "data": {
      "text/plain": [
       "array([[ 389,   64],\n",
       "       [  15, 1175]], dtype=int64)"
      ]
     },
     "execution_count": 26,
     "metadata": {},
     "output_type": "execute_result"
    }
   ],
   "source": [
    "# Instanciar el modelo de regresión logística\n",
    "model = LogisticRegression()\n",
    "df_clasificado_log_reg = cross_val_predict(model, X_train, df_train[\"Clasificación\"], cv=3)\n",
    "# Entrenar el modelo\n",
    "confusion_matrix(df_train[\"Clasificación\"], df_clasificado_log_reg)"
   ]
  },
  {
   "cell_type": "code",
   "execution_count": 27,
   "metadata": {},
   "outputs": [
    {
     "data": {
      "text/plain": [
       "0.9483454398708636"
      ]
     },
     "execution_count": 27,
     "metadata": {},
     "output_type": "execute_result"
    }
   ],
   "source": [
    "precision_score(df_train[\"Clasificación\"].to_numpy(), df_clasificado_log_reg, pos_label=1)"
   ]
  },
  {
   "cell_type": "code",
   "execution_count": 28,
   "metadata": {},
   "outputs": [],
   "source": [
    "# Predecir las etiquetas del archivo de validación\n",
    "sgd_clf.fit(X_train, df_train[\"Clasificación\"])\n",
    "y_pred = sgd_clf.predict(X_val)\n",
    "# Agregar la columna clasificación al archivo de validación\n",
    "df_val[\"clasificacion\"] = y_pred\n",
    "\n",
    "df_val.to_excel('C:/Users/gerrodri/Documents/Academia/out/val_sgd.xlsx')"
   ]
  },
  {
   "cell_type": "code",
   "execution_count": 30,
   "metadata": {},
   "outputs": [],
   "source": [
    "forest_reg.fit(X_train, df_train[\"Clasificación\"])\n",
    "y_pred = forest_reg.predict(X_val)\n",
    "# Agregar la columna clasificación al archivo de validación\n",
    "df_val[\"clasificacion\"] = y_pred\n",
    "\n",
    "df_val.to_excel('C:/Users/gerrodri/Documents/Academia/out/val_random_forest.xlsx')"
   ]
  },
  {
   "cell_type": "code",
   "execution_count": 31,
   "metadata": {},
   "outputs": [],
   "source": [
    "tree_reg.fit(X_train, df_train[\"Clasificación\"])\n",
    "y_pred = tree_reg.predict(X_val)\n",
    "# Agregar la columna clasificación al archivo de validación\n",
    "df_val[\"clasificacion\"] = y_pred\n",
    "\n",
    "df_val.to_excel('C:/Users/gerrodri/Documents/Academia/out/val_arbol_decisión.xlsx')"
   ]
  },
  {
   "cell_type": "code",
   "execution_count": 32,
   "metadata": {},
   "outputs": [],
   "source": [
    "svm_classifier.fit(X_train, df_train[\"Clasificación\"])\n",
    "y_pred = svm_classifier.predict(X_val)\n",
    "# Agregar la columna clasificación al archivo de validación\n",
    "df_val[\"clasificacion\"] = y_pred\n",
    "\n",
    "df_val.to_excel('C:/Users/gerrodri/Documents/Academia/out/val_svm.xlsx')\n"
   ]
  },
  {
   "cell_type": "code",
   "execution_count": 33,
   "metadata": {},
   "outputs": [],
   "source": [
    "model.fit(X_train, df_train[\"Clasificación\"])\n",
    "y_pred = model.predict(X_val)\n",
    "# Agregar la columna clasificación al archivo de validación\n",
    "df_val[\"clasificacion\"] = y_pred\n",
    "\n",
    "df_val.to_excel('C:/Users/gerrodri/Documents/Academia/out/val_log_reg.xlsx')"
   ]
  }
 ],
 "metadata": {
  "kernelspec": {
   "display_name": "venv",
   "language": "python",
   "name": "python3"
  },
  "language_info": {
   "codemirror_mode": {
    "name": "ipython",
    "version": 3
   },
   "file_extension": ".py",
   "mimetype": "text/x-python",
   "name": "python",
   "nbconvert_exporter": "python",
   "pygments_lexer": "ipython3",
   "version": "3.9.12"
  }
 },
 "nbformat": 4,
 "nbformat_minor": 2
}
